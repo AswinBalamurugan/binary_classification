{
  "cells": [
    {
      "cell_type": "markdown",
      "metadata": {
        "id": "96cs0qtQxMqu"
      },
      "source": [
        "# There are 25 variables:\n",
        "\n",
        "* ID: ID of each client \n",
        "* LIMIT_BAL: Amount of given credit in NT dollars (includes individual and family/supplementary credit\n",
        "* SEX: Gender (1=male, 2=female)\n",
        "* EDUCATION: (1=graduate school, 2=university, 3=high school, 4=others, 5=unknown, 6=unknown)\n",
        "* MARRIAGE: Marital status (1=married, 2=single, 3=others)\n",
        "* AGE: Age in years\n",
        "* PAY_0: Repayment status in September, 2005 (-1=pay duly, 1=payment delay for one month, 2=payment delay for two months, … 8=payment delay for eight months, 9=payment delay for nine months and above)\n",
        "* PAY_2: Repayment status in August, 2005 (scale same as above)\n",
        "* PAY_3: Repayment status in July, 2005 (scale same as above)\n",
        "* PAY_4: Repayment status in June, 2005 (scale same as above)\n",
        "* PAY_5: Repayment status in May, 2005 (scale same as above)\n",
        "* PAY_6: Repayment status in April, 2005 (scale same as above)\n",
        "* BILL_AMT1: Amount of bill statement in September, 2005 (NT dollar)\n",
        "* BILL_AMT2: Amount of bill statement in August, 2005 (NT dollar)\n",
        "* BILL_AMT3: Amount of bill statement in July, 2005 (NT dollar)\n",
        "* BILL_AMT4: Amount of bill statement in June, 2005 (NT dollar)\n",
        "* BILL_AMT5: Amount of bill statement in May, 2005 (NT dollar)\n",
        "* BILL_AMT6: Amount of bill statement in April, 2005 (NT dollar)\n",
        "* PAY_AMT1: Amount of previous payment in September, 2005 (NT dollar)\n",
        "* PAY_AMT2: Amount of previous payment in August, 2005 (NT dollar)\n",
        "* PAY_AMT3: Amount of previous payment in July, 2005 (NT dollar)\n",
        "* PAY_AMT4: Amount of previous payment in June, 2005 (NT dollar)\n",
        "* PAY_AMT5: Amount of previous payment in May, 2005 (NT dollar)\n",
        "* PAY_AMT6: Amount of previous payment in April, 2005 (NT dollar)\n",
        "* default.payment.next.month: Default payment (1=yes, 0=no)"
      ]
    },
    {
      "cell_type": "code",
      "execution_count": 29,
      "metadata": {
        "id": "UBgRy9jYwSsV"
      },
      "outputs": [],
      "source": [
        "import pandas as pd\n",
        "import numpy as np\n",
        "import seaborn as sns\n",
        "import matplotlib.pyplot as plt\n",
        "%matplotlib inline"
      ]
    },
    {
      "cell_type": "code",
      "execution_count": 30,
      "metadata": {
        "id": "GAuZAgqdxNcg"
      },
      "outputs": [],
      "source": [
        "data = pd.read_csv('UCI_Credit_Card.csv')"
      ]
    },
    {
      "cell_type": "code",
      "execution_count": 31,
      "metadata": {
        "colab": {
          "base_uri": "https://localhost:8080/",
          "height": 297
        },
        "id": "nN7ojTRbxW77",
        "outputId": "dcb6aaa1-beff-4363-d10e-354da381305d"
      },
      "outputs": [
        {
          "output_type": "execute_result",
          "data": {
            "text/plain": [
              "   ID  LIMIT_BAL  SEX  EDUCATION  MARRIAGE  AGE  PAY_0  PAY_2  PAY_3  PAY_4  \\\n",
              "0   1    20000.0    2          2         1   24      2      2     -1     -1   \n",
              "1   2   120000.0    2          2         2   26     -1      2      0      0   \n",
              "2   3    90000.0    2          2         2   34      0      0      0      0   \n",
              "3   4    50000.0    2          2         1   37      0      0      0      0   \n",
              "4   5    50000.0    1          2         1   57     -1      0     -1      0   \n",
              "\n",
              "   ...  BILL_AMT4  BILL_AMT5  BILL_AMT6  PAY_AMT1  PAY_AMT2  PAY_AMT3  \\\n",
              "0  ...        0.0        0.0        0.0       0.0     689.0       0.0   \n",
              "1  ...     3272.0     3455.0     3261.0       0.0    1000.0    1000.0   \n",
              "2  ...    14331.0    14948.0    15549.0    1518.0    1500.0    1000.0   \n",
              "3  ...    28314.0    28959.0    29547.0    2000.0    2019.0    1200.0   \n",
              "4  ...    20940.0    19146.0    19131.0    2000.0   36681.0   10000.0   \n",
              "\n",
              "   PAY_AMT4  PAY_AMT5  PAY_AMT6  default.payment.next.month  \n",
              "0       0.0       0.0       0.0                           1  \n",
              "1    1000.0       0.0    2000.0                           1  \n",
              "2    1000.0    1000.0    5000.0                           0  \n",
              "3    1100.0    1069.0    1000.0                           0  \n",
              "4    9000.0     689.0     679.0                           0  \n",
              "\n",
              "[5 rows x 25 columns]"
            ],
            "text/html": [
              "\n",
              "  <div id=\"df-a7b918a0-eb92-4b53-b307-35a8dd0d037a\">\n",
              "    <div class=\"colab-df-container\">\n",
              "      <div>\n",
              "<style scoped>\n",
              "    .dataframe tbody tr th:only-of-type {\n",
              "        vertical-align: middle;\n",
              "    }\n",
              "\n",
              "    .dataframe tbody tr th {\n",
              "        vertical-align: top;\n",
              "    }\n",
              "\n",
              "    .dataframe thead th {\n",
              "        text-align: right;\n",
              "    }\n",
              "</style>\n",
              "<table border=\"1\" class=\"dataframe\">\n",
              "  <thead>\n",
              "    <tr style=\"text-align: right;\">\n",
              "      <th></th>\n",
              "      <th>ID</th>\n",
              "      <th>LIMIT_BAL</th>\n",
              "      <th>SEX</th>\n",
              "      <th>EDUCATION</th>\n",
              "      <th>MARRIAGE</th>\n",
              "      <th>AGE</th>\n",
              "      <th>PAY_0</th>\n",
              "      <th>PAY_2</th>\n",
              "      <th>PAY_3</th>\n",
              "      <th>PAY_4</th>\n",
              "      <th>...</th>\n",
              "      <th>BILL_AMT4</th>\n",
              "      <th>BILL_AMT5</th>\n",
              "      <th>BILL_AMT6</th>\n",
              "      <th>PAY_AMT1</th>\n",
              "      <th>PAY_AMT2</th>\n",
              "      <th>PAY_AMT3</th>\n",
              "      <th>PAY_AMT4</th>\n",
              "      <th>PAY_AMT5</th>\n",
              "      <th>PAY_AMT6</th>\n",
              "      <th>default.payment.next.month</th>\n",
              "    </tr>\n",
              "  </thead>\n",
              "  <tbody>\n",
              "    <tr>\n",
              "      <th>0</th>\n",
              "      <td>1</td>\n",
              "      <td>20000.0</td>\n",
              "      <td>2</td>\n",
              "      <td>2</td>\n",
              "      <td>1</td>\n",
              "      <td>24</td>\n",
              "      <td>2</td>\n",
              "      <td>2</td>\n",
              "      <td>-1</td>\n",
              "      <td>-1</td>\n",
              "      <td>...</td>\n",
              "      <td>0.0</td>\n",
              "      <td>0.0</td>\n",
              "      <td>0.0</td>\n",
              "      <td>0.0</td>\n",
              "      <td>689.0</td>\n",
              "      <td>0.0</td>\n",
              "      <td>0.0</td>\n",
              "      <td>0.0</td>\n",
              "      <td>0.0</td>\n",
              "      <td>1</td>\n",
              "    </tr>\n",
              "    <tr>\n",
              "      <th>1</th>\n",
              "      <td>2</td>\n",
              "      <td>120000.0</td>\n",
              "      <td>2</td>\n",
              "      <td>2</td>\n",
              "      <td>2</td>\n",
              "      <td>26</td>\n",
              "      <td>-1</td>\n",
              "      <td>2</td>\n",
              "      <td>0</td>\n",
              "      <td>0</td>\n",
              "      <td>...</td>\n",
              "      <td>3272.0</td>\n",
              "      <td>3455.0</td>\n",
              "      <td>3261.0</td>\n",
              "      <td>0.0</td>\n",
              "      <td>1000.0</td>\n",
              "      <td>1000.0</td>\n",
              "      <td>1000.0</td>\n",
              "      <td>0.0</td>\n",
              "      <td>2000.0</td>\n",
              "      <td>1</td>\n",
              "    </tr>\n",
              "    <tr>\n",
              "      <th>2</th>\n",
              "      <td>3</td>\n",
              "      <td>90000.0</td>\n",
              "      <td>2</td>\n",
              "      <td>2</td>\n",
              "      <td>2</td>\n",
              "      <td>34</td>\n",
              "      <td>0</td>\n",
              "      <td>0</td>\n",
              "      <td>0</td>\n",
              "      <td>0</td>\n",
              "      <td>...</td>\n",
              "      <td>14331.0</td>\n",
              "      <td>14948.0</td>\n",
              "      <td>15549.0</td>\n",
              "      <td>1518.0</td>\n",
              "      <td>1500.0</td>\n",
              "      <td>1000.0</td>\n",
              "      <td>1000.0</td>\n",
              "      <td>1000.0</td>\n",
              "      <td>5000.0</td>\n",
              "      <td>0</td>\n",
              "    </tr>\n",
              "    <tr>\n",
              "      <th>3</th>\n",
              "      <td>4</td>\n",
              "      <td>50000.0</td>\n",
              "      <td>2</td>\n",
              "      <td>2</td>\n",
              "      <td>1</td>\n",
              "      <td>37</td>\n",
              "      <td>0</td>\n",
              "      <td>0</td>\n",
              "      <td>0</td>\n",
              "      <td>0</td>\n",
              "      <td>...</td>\n",
              "      <td>28314.0</td>\n",
              "      <td>28959.0</td>\n",
              "      <td>29547.0</td>\n",
              "      <td>2000.0</td>\n",
              "      <td>2019.0</td>\n",
              "      <td>1200.0</td>\n",
              "      <td>1100.0</td>\n",
              "      <td>1069.0</td>\n",
              "      <td>1000.0</td>\n",
              "      <td>0</td>\n",
              "    </tr>\n",
              "    <tr>\n",
              "      <th>4</th>\n",
              "      <td>5</td>\n",
              "      <td>50000.0</td>\n",
              "      <td>1</td>\n",
              "      <td>2</td>\n",
              "      <td>1</td>\n",
              "      <td>57</td>\n",
              "      <td>-1</td>\n",
              "      <td>0</td>\n",
              "      <td>-1</td>\n",
              "      <td>0</td>\n",
              "      <td>...</td>\n",
              "      <td>20940.0</td>\n",
              "      <td>19146.0</td>\n",
              "      <td>19131.0</td>\n",
              "      <td>2000.0</td>\n",
              "      <td>36681.0</td>\n",
              "      <td>10000.0</td>\n",
              "      <td>9000.0</td>\n",
              "      <td>689.0</td>\n",
              "      <td>679.0</td>\n",
              "      <td>0</td>\n",
              "    </tr>\n",
              "  </tbody>\n",
              "</table>\n",
              "<p>5 rows × 25 columns</p>\n",
              "</div>\n",
              "      <button class=\"colab-df-convert\" onclick=\"convertToInteractive('df-a7b918a0-eb92-4b53-b307-35a8dd0d037a')\"\n",
              "              title=\"Convert this dataframe to an interactive table.\"\n",
              "              style=\"display:none;\">\n",
              "        \n",
              "  <svg xmlns=\"http://www.w3.org/2000/svg\" height=\"24px\"viewBox=\"0 0 24 24\"\n",
              "       width=\"24px\">\n",
              "    <path d=\"M0 0h24v24H0V0z\" fill=\"none\"/>\n",
              "    <path d=\"M18.56 5.44l.94 2.06.94-2.06 2.06-.94-2.06-.94-.94-2.06-.94 2.06-2.06.94zm-11 1L8.5 8.5l.94-2.06 2.06-.94-2.06-.94L8.5 2.5l-.94 2.06-2.06.94zm10 10l.94 2.06.94-2.06 2.06-.94-2.06-.94-.94-2.06-.94 2.06-2.06.94z\"/><path d=\"M17.41 7.96l-1.37-1.37c-.4-.4-.92-.59-1.43-.59-.52 0-1.04.2-1.43.59L10.3 9.45l-7.72 7.72c-.78.78-.78 2.05 0 2.83L4 21.41c.39.39.9.59 1.41.59.51 0 1.02-.2 1.41-.59l7.78-7.78 2.81-2.81c.8-.78.8-2.07 0-2.86zM5.41 20L4 18.59l7.72-7.72 1.47 1.35L5.41 20z\"/>\n",
              "  </svg>\n",
              "      </button>\n",
              "      \n",
              "  <style>\n",
              "    .colab-df-container {\n",
              "      display:flex;\n",
              "      flex-wrap:wrap;\n",
              "      gap: 12px;\n",
              "    }\n",
              "\n",
              "    .colab-df-convert {\n",
              "      background-color: #E8F0FE;\n",
              "      border: none;\n",
              "      border-radius: 50%;\n",
              "      cursor: pointer;\n",
              "      display: none;\n",
              "      fill: #1967D2;\n",
              "      height: 32px;\n",
              "      padding: 0 0 0 0;\n",
              "      width: 32px;\n",
              "    }\n",
              "\n",
              "    .colab-df-convert:hover {\n",
              "      background-color: #E2EBFA;\n",
              "      box-shadow: 0px 1px 2px rgba(60, 64, 67, 0.3), 0px 1px 3px 1px rgba(60, 64, 67, 0.15);\n",
              "      fill: #174EA6;\n",
              "    }\n",
              "\n",
              "    [theme=dark] .colab-df-convert {\n",
              "      background-color: #3B4455;\n",
              "      fill: #D2E3FC;\n",
              "    }\n",
              "\n",
              "    [theme=dark] .colab-df-convert:hover {\n",
              "      background-color: #434B5C;\n",
              "      box-shadow: 0px 1px 3px 1px rgba(0, 0, 0, 0.15);\n",
              "      filter: drop-shadow(0px 1px 2px rgba(0, 0, 0, 0.3));\n",
              "      fill: #FFFFFF;\n",
              "    }\n",
              "  </style>\n",
              "\n",
              "      <script>\n",
              "        const buttonEl =\n",
              "          document.querySelector('#df-a7b918a0-eb92-4b53-b307-35a8dd0d037a button.colab-df-convert');\n",
              "        buttonEl.style.display =\n",
              "          google.colab.kernel.accessAllowed ? 'block' : 'none';\n",
              "\n",
              "        async function convertToInteractive(key) {\n",
              "          const element = document.querySelector('#df-a7b918a0-eb92-4b53-b307-35a8dd0d037a');\n",
              "          const dataTable =\n",
              "            await google.colab.kernel.invokeFunction('convertToInteractive',\n",
              "                                                     [key], {});\n",
              "          if (!dataTable) return;\n",
              "\n",
              "          const docLinkHtml = 'Like what you see? Visit the ' +\n",
              "            '<a target=\"_blank\" href=https://colab.research.google.com/notebooks/data_table.ipynb>data table notebook</a>'\n",
              "            + ' to learn more about interactive tables.';\n",
              "          element.innerHTML = '';\n",
              "          dataTable['output_type'] = 'display_data';\n",
              "          await google.colab.output.renderOutput(dataTable, element);\n",
              "          const docLink = document.createElement('div');\n",
              "          docLink.innerHTML = docLinkHtml;\n",
              "          element.appendChild(docLink);\n",
              "        }\n",
              "      </script>\n",
              "    </div>\n",
              "  </div>\n",
              "  "
            ]
          },
          "metadata": {},
          "execution_count": 31
        }
      ],
      "source": [
        "data.head()"
      ]
    },
    {
      "cell_type": "code",
      "execution_count": 32,
      "metadata": {
        "colab": {
          "base_uri": "https://localhost:8080/"
        },
        "id": "JVBf4GxhxYhU",
        "outputId": "ac42df0a-6cea-40bb-c896-f85a1e8a1d80"
      },
      "outputs": [
        {
          "output_type": "stream",
          "name": "stdout",
          "text": [
            "There are 30000 rows and 25 columns.\n"
          ]
        }
      ],
      "source": [
        "print('There are {} rows and {} columns.'.format(data.shape[0],data.shape[1]))"
      ]
    },
    {
      "cell_type": "code",
      "execution_count": 33,
      "metadata": {
        "id": "4i1WDbT2hQPX"
      },
      "outputs": [],
      "source": [
        "data.rename(columns={'PAY_0':'PAY_1','default.payment.next.month':'default.pay'},inplace=True)"
      ]
    },
    {
      "cell_type": "code",
      "execution_count": 34,
      "metadata": {
        "colab": {
          "base_uri": "https://localhost:8080/"
        },
        "id": "D5EPDMg9xcZp",
        "outputId": "b930a815-fa45-405f-9bdd-71e972f64741",
        "scrolled": true
      },
      "outputs": [
        {
          "output_type": "stream",
          "name": "stdout",
          "text": [
            "<class 'pandas.core.frame.DataFrame'>\n",
            "RangeIndex: 30000 entries, 0 to 29999\n",
            "Data columns (total 25 columns):\n",
            " #   Column       Non-Null Count  Dtype  \n",
            "---  ------       --------------  -----  \n",
            " 0   ID           30000 non-null  int64  \n",
            " 1   LIMIT_BAL    30000 non-null  float64\n",
            " 2   SEX          30000 non-null  int64  \n",
            " 3   EDUCATION    30000 non-null  int64  \n",
            " 4   MARRIAGE     30000 non-null  int64  \n",
            " 5   AGE          30000 non-null  int64  \n",
            " 6   PAY_1        30000 non-null  int64  \n",
            " 7   PAY_2        30000 non-null  int64  \n",
            " 8   PAY_3        30000 non-null  int64  \n",
            " 9   PAY_4        30000 non-null  int64  \n",
            " 10  PAY_5        30000 non-null  int64  \n",
            " 11  PAY_6        30000 non-null  int64  \n",
            " 12  BILL_AMT1    30000 non-null  float64\n",
            " 13  BILL_AMT2    30000 non-null  float64\n",
            " 14  BILL_AMT3    30000 non-null  float64\n",
            " 15  BILL_AMT4    30000 non-null  float64\n",
            " 16  BILL_AMT5    30000 non-null  float64\n",
            " 17  BILL_AMT6    30000 non-null  float64\n",
            " 18  PAY_AMT1     30000 non-null  float64\n",
            " 19  PAY_AMT2     30000 non-null  float64\n",
            " 20  PAY_AMT3     30000 non-null  float64\n",
            " 21  PAY_AMT4     30000 non-null  float64\n",
            " 22  PAY_AMT5     30000 non-null  float64\n",
            " 23  PAY_AMT6     30000 non-null  float64\n",
            " 24  default.pay  30000 non-null  int64  \n",
            "dtypes: float64(13), int64(12)\n",
            "memory usage: 5.7 MB\n"
          ]
        }
      ],
      "source": [
        "data.info()"
      ]
    },
    {
      "cell_type": "markdown",
      "metadata": {
        "id": "hoS7OdlUv-5s"
      },
      "source": [
        "# Exploratory Data Analysis"
      ]
    },
    {
      "cell_type": "code",
      "execution_count": 35,
      "metadata": {
        "colab": {
          "base_uri": "https://localhost:8080/",
          "height": 296
        },
        "id": "CDUFVvRHv-5t",
        "outputId": "0fae5ba7-b20f-4202-f565-d765c00b623b"
      },
      "outputs": [
        {
          "output_type": "execute_result",
          "data": {
            "text/plain": [
              "<matplotlib.axes._subplots.AxesSubplot at 0x7f0f8cf3acd0>"
            ]
          },
          "metadata": {},
          "execution_count": 35
        },
        {
          "output_type": "display_data",
          "data": {
            "text/plain": [
              "<Figure size 432x288 with 1 Axes>"
            ],
            "image/png": "[encoded data removed]"
          },
          "metadata": {
            "needs_background": "light"
          }
        }
      ],
      "source": [
        "sns.countplot(x='default.pay',data=data)"
      ]
    },
    {
      "cell_type": "code",
      "execution_count": 36,
      "metadata": {
        "colab": {
          "base_uri": "https://localhost:8080/",
          "height": 335
        },
        "id": "qkIMNkPzv-5t",
        "outputId": "4fadf05d-6b17-441f-cda1-a3d59d06f8cf"
      },
      "outputs": [
        {
          "output_type": "execute_result",
          "data": {
            "text/plain": [
              "<matplotlib.axes._subplots.AxesSubplot at 0x7f0f8ce541d0>"
            ]
          },
          "metadata": {},
          "execution_count": 36
        },
        {
          "output_type": "display_data",
          "data": {
            "text/plain": [
              "<Figure size 1296x432 with 1 Axes>"
            ],
            "image/png": "[encoded data removed]"
          },
          "metadata": {
            "needs_background": "light"
          }
        }
      ],
      "source": [
        "plt.figure(figsize=(18,6))\n",
        "sns.countplot(x='AGE',data=data)"
      ]
    },
    {
      "cell_type": "code",
      "execution_count": 37,
      "metadata": {
        "scrolled": false,
        "colab": {
          "base_uri": "https://localhost:8080/",
          "height": 299
        },
        "id": "8Bl11NwJv-5u",
        "outputId": "a48a5558-3881-4e7c-f2ba-f9e5abf27e51"
      },
      "outputs": [
        {
          "output_type": "execute_result",
          "data": {
            "text/plain": [
              "<matplotlib.axes._subplots.AxesSubplot at 0x7f0f8cceee90>"
            ]
          },
          "metadata": {},
          "execution_count": 37
        },
        {
          "output_type": "display_data",
          "data": {
            "text/plain": [
              "<Figure size 720x288 with 1 Axes>"
            ],
            "image/png": "[encoded data removed]"
          },
          "metadata": {
            "needs_background": "light"
          }
        }
      ],
      "source": [
        "plt.figure(figsize=(10,4))\n",
        "sns.histplot(x='LIMIT_BAL',data=data,kde=True)\n",
        "# plt.xlim((0,1e6))"
      ]
    },
    {
      "cell_type": "code",
      "execution_count": 38,
      "metadata": {
        "colab": {
          "base_uri": "https://localhost:8080/",
          "height": 330
        },
        "id": "N1f-Jo36v-5u",
        "outputId": "6b9bc752-0403-45ac-fe89-09ace6bb3919"
      },
      "outputs": [
        {
          "output_type": "execute_result",
          "data": {
            "text/plain": [
              "([<matplotlib.axis.XTick at 0x7f0f8cb262d0>,\n",
              "  <matplotlib.axis.XTick at 0x7f0f8cb26290>],\n",
              " [Text(0, 0, 'Male'), Text(0, 0, 'Female')])"
            ]
          },
          "metadata": {},
          "execution_count": 38
        },
        {
          "output_type": "display_data",
          "data": {
            "text/plain": [
              "<Figure size 432x288 with 1 Axes>"
            ],
            "image/png": "[encoded data removed]"
          },
          "metadata": {
            "needs_background": "light"
          }
        }
      ],
      "source": [
        "sns.countplot(x='SEX',data=data,hue='default.pay')\n",
        "plt.xticks([0,1],['Male','Female'])"
      ]
    },
    {
      "cell_type": "code",
      "execution_count": 39,
      "metadata": {
        "colab": {
          "base_uri": "https://localhost:8080/",
          "height": 296
        },
        "id": "NX3TXW0bv-5v",
        "outputId": "b8fc92e6-0886-4e8d-eb27-5ff410dd2ec5"
      },
      "outputs": [
        {
          "output_type": "execute_result",
          "data": {
            "text/plain": [
              "<matplotlib.axes._subplots.AxesSubplot at 0x7f0f8cad7c50>"
            ]
          },
          "metadata": {},
          "execution_count": 39
        },
        {
          "output_type": "display_data",
          "data": {
            "text/plain": [
              "<Figure size 432x288 with 1 Axes>"
            ],
            "image/png": "[encoded data removed]"
          },
          "metadata": {
            "needs_background": "light"
          }
        }
      ],
      "source": [
        "sns.countplot(x='EDUCATION',data=data)"
      ]
    },
    {
      "cell_type": "code",
      "execution_count": 40,
      "metadata": {
        "colab": {
          "base_uri": "https://localhost:8080/",
          "height": 296
        },
        "id": "iomjFgscv-5v",
        "outputId": "c1b07178-4da3-41c2-e243-2dd61a4fb246"
      },
      "outputs": [
        {
          "output_type": "execute_result",
          "data": {
            "text/plain": [
              "<matplotlib.axes._subplots.AxesSubplot at 0x7f0f8cc62610>"
            ]
          },
          "metadata": {},
          "execution_count": 40
        },
        {
          "output_type": "display_data",
          "data": {
            "text/plain": [
              "<Figure size 432x288 with 1 Axes>"
            ],
            "image/png": "[encoded data removed]"
          },
          "metadata": {
            "needs_background": "light"
          }
        }
      ],
      "source": [
        "sns.countplot(x='MARRIAGE',data=data)"
      ]
    },
    {
      "cell_type": "markdown",
      "metadata": {
        "id": "kPh--YBks3PZ"
      },
      "source": [
        "# Data Cleaning"
      ]
    },
    {
      "cell_type": "markdown",
      "metadata": {
        "id": "kFjoI3netAaI"
      },
      "source": [
        "## Education column"
      ]
    },
    {
      "cell_type": "code",
      "execution_count": 41,
      "metadata": {
        "colab": {
          "base_uri": "https://localhost:8080/"
        },
        "id": "ADbPpZVXxd3o",
        "outputId": "3ae689d7-8045-4ea2-a0ca-97ad218ea5b3"
      },
      "outputs": [
        {
          "output_type": "execute_result",
          "data": {
            "text/plain": [
              "2    14030\n",
              "1    10585\n",
              "3     4917\n",
              "5      280\n",
              "4      123\n",
              "6       51\n",
              "0       14\n",
              "Name: EDUCATION, dtype: int64"
            ]
          },
          "metadata": {},
          "execution_count": 41
        }
      ],
      "source": [
        "# Checking what all values are there in education column\n",
        "data['EDUCATION'].value_counts()"
      ]
    },
    {
      "cell_type": "code",
      "execution_count": 42,
      "metadata": {
        "id": "w8DKyJhKxgCR"
      },
      "outputs": [],
      "source": [
        "# 0,5 and 6 denote unknown in education column, so we are replacing 0,6,5 to 4\n",
        "data['EDUCATION'].replace([0,5,6],4,inplace=True)"
      ]
    },
    {
      "cell_type": "markdown",
      "metadata": {
        "id": "Wl-qXEQqtFFV"
      },
      "source": [
        "## Marriage column"
      ]
    },
    {
      "cell_type": "code",
      "execution_count": 43,
      "metadata": {
        "colab": {
          "base_uri": "https://localhost:8080/"
        },
        "id": "2NEHr_xjxhf1",
        "outputId": "defa27a1-2f68-4662-fa5d-68b827493df1"
      },
      "outputs": [
        {
          "output_type": "execute_result",
          "data": {
            "text/plain": [
              "2    15964\n",
              "1    13659\n",
              "3      323\n",
              "0       54\n",
              "Name: MARRIAGE, dtype: int64"
            ]
          },
          "metadata": {},
          "execution_count": 43
        }
      ],
      "source": [
        "# Checking marriage column for unknown value\n",
        "data['MARRIAGE'].value_counts()"
      ]
    },
    {
      "cell_type": "code",
      "execution_count": 44,
      "metadata": {
        "id": "Q-e8uXSWxjYz"
      },
      "outputs": [],
      "source": [
        "# Replacing 0 with 3 which is 'others'\n",
        "data['MARRIAGE'].replace(0,3,inplace=True)"
      ]
    },
    {
      "cell_type": "code",
      "execution_count": 45,
      "metadata": {
        "colab": {
          "base_uri": "https://localhost:8080/"
        },
        "id": "35gngFyC-uJF",
        "outputId": "aa961843-6906-4548-c82b-8831a7d6db69",
        "scrolled": true
      },
      "outputs": [
        {
          "output_type": "execute_result",
          "data": {
            "text/plain": [
              "ID             0\n",
              "LIMIT_BAL      0\n",
              "SEX            0\n",
              "EDUCATION      0\n",
              "MARRIAGE       0\n",
              "AGE            0\n",
              "PAY_1          0\n",
              "PAY_2          0\n",
              "PAY_3          0\n",
              "PAY_4          0\n",
              "PAY_5          0\n",
              "PAY_6          0\n",
              "BILL_AMT1      0\n",
              "BILL_AMT2      0\n",
              "BILL_AMT3      0\n",
              "BILL_AMT4      0\n",
              "BILL_AMT5      0\n",
              "BILL_AMT6      0\n",
              "PAY_AMT1       0\n",
              "PAY_AMT2       0\n",
              "PAY_AMT3       0\n",
              "PAY_AMT4       0\n",
              "PAY_AMT5       0\n",
              "PAY_AMT6       0\n",
              "default.pay    0\n",
              "dtype: int64"
            ]
          },
          "metadata": {},
          "execution_count": 45
        }
      ],
      "source": [
        "# Checking for missing values\n",
        "data.isnull().sum()"
      ]
    },
    {
      "cell_type": "markdown",
      "metadata": {
        "id": "gCa-mymgwOBU"
      },
      "source": [
        "## Pay columns"
      ]
    },
    {
      "cell_type": "code",
      "execution_count": 46,
      "metadata": {
        "colab": {
          "base_uri": "https://localhost:8080/"
        },
        "id": "SK0GNlI1wSIm",
        "outputId": "12aa0b09-a643-4ac0-dc64-9f4f5a95b851"
      },
      "outputs": [
        {
          "output_type": "execute_result",
          "data": {
            "text/plain": [
              " 0    14737\n",
              "-1     5686\n",
              " 1     3688\n",
              "-2     2759\n",
              " 2     2667\n",
              " 3      322\n",
              " 4       76\n",
              " 5       26\n",
              " 8       19\n",
              " 6       11\n",
              " 7        9\n",
              "Name: PAY_1, dtype: int64"
            ]
          },
          "metadata": {},
          "execution_count": 46
        }
      ],
      "source": [
        "data['PAY_1'].value_counts()"
      ]
    },
    {
      "cell_type": "code",
      "execution_count": 47,
      "metadata": {
        "id": "Cy81ztSzwkcR"
      },
      "outputs": [],
      "source": [
        "cols = ['PAY_1','PAY_2','PAY_3','PAY_4','PAY_5','PAY_6']\n",
        "for col in cols:\n",
        "  data[col].replace([-2,-1],0,inplace=True)"
      ]
    },
    {
      "cell_type": "markdown",
      "metadata": {
        "id": "B1SYGJDXuu1G"
      },
      "source": [
        "## Feature Engineering"
      ]
    },
    {
      "cell_type": "code",
      "execution_count": 48,
      "metadata": {
        "id": "jcnxcTEtv-51"
      },
      "outputs": [],
      "source": [
        "data.drop('ID',axis=1,inplace=True)"
      ]
    },
    {
      "cell_type": "code",
      "execution_count": 49,
      "metadata": {
        "id": "g1ehsM7dv-51"
      },
      "outputs": [],
      "source": [
        "data = pd.get_dummies(data, columns=['SEX'])\n",
        "data = pd.get_dummies(data, columns=['EDUCATION'])\n",
        "data = pd.get_dummies(data, columns=['MARRIAGE'])"
      ]
    },
    {
      "cell_type": "code",
      "execution_count": 50,
      "metadata": {
        "colab": {
          "base_uri": "https://localhost:8080/"
        },
        "id": "TigT2P0hv-51",
        "outputId": "7ca2a7d4-855d-41a1-8157-7c3e64925d25"
      },
      "outputs": [
        {
          "output_type": "execute_result",
          "data": {
            "text/plain": [
              "Index(['LIMIT_BAL', 'AGE', 'PAY_1', 'PAY_2', 'PAY_3', 'PAY_4', 'PAY_5',\n",
              "       'PAY_6', 'BILL_AMT1', 'BILL_AMT2', 'BILL_AMT3', 'BILL_AMT4',\n",
              "       'BILL_AMT5', 'BILL_AMT6', 'PAY_AMT1', 'PAY_AMT2', 'PAY_AMT3',\n",
              "       'PAY_AMT4', 'PAY_AMT5', 'PAY_AMT6', 'default.pay', 'SEX_1', 'SEX_2',\n",
              "       'EDUCATION_1', 'EDUCATION_2', 'EDUCATION_3', 'EDUCATION_4',\n",
              "       'MARRIAGE_1', 'MARRIAGE_2', 'MARRIAGE_3'],\n",
              "      dtype='object')"
            ]
          },
          "metadata": {},
          "execution_count": 50
        }
      ],
      "source": [
        "data.columns"
      ]
    },
    {
      "cell_type": "code",
      "execution_count": 51,
      "metadata": {
        "colab": {
          "base_uri": "https://localhost:8080/"
        },
        "id": "0pRLUnF5v-51",
        "outputId": "68e5e25a-191d-4c22-85f6-1a6d88a67d73"
      },
      "outputs": [
        {
          "output_type": "execute_result",
          "data": {
            "text/plain": [
              "(30000, 30)"
            ]
          },
          "metadata": {},
          "execution_count": 51
        }
      ],
      "source": [
        "data.shape"
      ]
    },
    {
      "cell_type": "markdown",
      "metadata": {
        "id": "1OEwIdPhguu2"
      },
      "source": [
        "# Model Part\n",
        "\n"
      ]
    },
    {
      "cell_type": "code",
      "execution_count": 52,
      "metadata": {
        "id": "DVlxqb26g9wC"
      },
      "outputs": [],
      "source": [
        "from sklearn.model_selection import train_test_split,GridSearchCV\n",
        "from sklearn.preprocessing import StandardScaler\n",
        "from sklearn.linear_model import LogisticRegression,LinearRegression\n",
        "from sklearn.tree import DecisionTreeClassifier\n",
        "from sklearn.ensemble import RandomForestClassifier\n",
        "from sklearn.metrics import classification_report,confusion_matrix,accuracy_score\n",
        "from sklearn.neighbors import KNeighborsClassifier"
      ]
    },
    {
      "cell_type": "code",
      "execution_count": 53,
      "metadata": {
        "id": "Bdc3Hdglg62v"
      },
      "outputs": [],
      "source": [
        "X = data.drop('default.pay',axis=1)\n",
        "y = data['default.pay']\n",
        "X_train, X_test, y_train, y_test = train_test_split(X, y, test_size=0.3, random_state=101)"
      ]
    },
    {
      "cell_type": "markdown",
      "metadata": {
        "id": "F0zL80IQsLXT"
      },
      "source": [
        "##  Logistic Regression\n",
        "\n"
      ]
    },
    {
      "cell_type": "code",
      "execution_count": 54,
      "metadata": {
        "colab": {
          "base_uri": "https://localhost:8080/"
        },
        "id": "7MlShwJIgw8W",
        "outputId": "31181ec7-0cf6-48a9-f81f-f3f16e08ef5c"
      },
      "outputs": [
        {
          "output_type": "stream",
          "name": "stdout",
          "text": [
            "              precision    recall  f1-score   support\n",
            "\n",
            "           0       0.78      1.00      0.88      7058\n",
            "           1       0.00      0.00      0.00      1942\n",
            "\n",
            "    accuracy                           0.78      9000\n",
            "   macro avg       0.39      0.50      0.44      9000\n",
            "weighted avg       0.61      0.78      0.69      9000\n",
            "\n",
            "[[7056    2]\n",
            " [1942    0]]\n"
          ]
        }
      ],
      "source": [
        "logmodel = LogisticRegression(max_iter=300)\n",
        "\n",
        "logmodel.fit(X_train,y_train)\n",
        "pred_log = logmodel.predict(X_test)\n",
        "train_pred_log = logmodel.predict(X_train)\n",
        "\n",
        "print(classification_report(y_test,pred_log))\n",
        "print(confusion_matrix(y_test,pred_log))"
      ]
    },
    {
      "cell_type": "markdown",
      "metadata": {
        "id": "zTCbPPX3sY_J"
      },
      "source": [
        "\n",
        "\n",
        "##  Classification using Decision Trees\n",
        "\n"
      ]
    },
    {
      "cell_type": "code",
      "execution_count": 55,
      "metadata": {
        "colab": {
          "base_uri": "https://localhost:8080/"
        },
        "id": "Zv4Y33orhVrv",
        "outputId": "a8811971-d695-4dd8-f9b9-c236ccaafa5e"
      },
      "outputs": [
        {
          "output_type": "stream",
          "name": "stdout",
          "text": [
            "              precision    recall  f1-score   support\n",
            "\n",
            "           0       0.84      0.82      0.83      7058\n",
            "           1       0.39      0.43      0.41      1942\n",
            "\n",
            "    accuracy                           0.73      9000\n",
            "   macro avg       0.62      0.62      0.62      9000\n",
            "weighted avg       0.74      0.73      0.74      9000\n",
            "\n",
            "[[5784 1274]\n",
            " [1112  830]]\n"
          ]
        }
      ],
      "source": [
        "dtree = DecisionTreeClassifier()\n",
        "\n",
        "dtree.fit(X_train,y_train)\n",
        "pred_dtree = dtree.predict(X_test)\n",
        "train_pred_dtree = dtree.predict(X_train)\n",
        "\n",
        "print(classification_report(y_test,pred_dtree))\n",
        "print(confusion_matrix(y_test,pred_dtree))"
      ]
    },
    {
      "cell_type": "code",
      "execution_count": 56,
      "metadata": {
        "colab": {
          "base_uri": "https://localhost:8080/"
        },
        "id": "JOVBlTBFst9U",
        "outputId": "b6a01cb7-31db-4408-b11e-0f83f65d5b1b"
      },
      "outputs": [
        {
          "output_type": "stream",
          "name": "stdout",
          "text": [
            "              precision    recall  f1-score   support\n",
            "\n",
            "           0       0.84      0.94      0.89      7058\n",
            "           1       0.64      0.36      0.46      1942\n",
            "\n",
            "    accuracy                           0.82      9000\n",
            "   macro avg       0.74      0.65      0.68      9000\n",
            "weighted avg       0.80      0.82      0.80      9000\n",
            "\n",
            "[[6664  394]\n",
            " [1243  699]]\n"
          ]
        }
      ],
      "source": [
        "rfc = RandomForestClassifier(n_estimators=100)\n",
        "\n",
        "rfc.fit(X_train,y_train)\n",
        "pred_rfc = rfc.predict(X_test)\n",
        "train_pred_rfc = rfc.predict(X_train)\n",
        "\n",
        "print(classification_report(y_test,pred_rfc))\n",
        "print(confusion_matrix(y_test,pred_rfc))"
      ]
    },
    {
      "cell_type": "markdown",
      "metadata": {
        "id": "wjBk_Gz7gISU"
      },
      "source": [
        "## K Nearest Neighbour Classifier"
      ]
    },
    {
      "cell_type": "code",
      "execution_count": 57,
      "metadata": {
        "id": "Wu7Epvi9gQn5",
        "colab": {
          "base_uri": "https://localhost:8080/"
        },
        "outputId": "9cabc8b2-8fa7-4099-c870-3fedc7a8214e"
      },
      "outputs": [
        {
          "output_type": "stream",
          "name": "stdout",
          "text": [
            "              precision    recall  f1-score   support\n",
            "\n",
            "           0       0.83      0.81      0.82      7058\n",
            "           1       0.36      0.38      0.37      1942\n",
            "\n",
            "    accuracy                           0.72      9000\n",
            "   macro avg       0.59      0.60      0.59      9000\n",
            "weighted avg       0.73      0.72      0.72      9000\n",
            "\n",
            "[[5709 1349]\n",
            " [1196  746]]\n"
          ]
        }
      ],
      "source": [
        "knc = KNeighborsClassifier(n_neighbors=1)\n",
        "\n",
        "scaler = StandardScaler()\n",
        "X_train_scaled = scaler.fit_transform(X_train)\n",
        "X_test_scaled = scaler.transform(X_test)\n",
        "\n",
        "knc.fit(X_train_scaled,y_train)\n",
        "pred_knc = knc.predict(X_test_scaled)\n",
        "train_pred_knc = knc.predict(X_train_scaled)\n",
        "\n",
        "print(classification_report(y_test,pred_knc))\n",
        "print(confusion_matrix(y_test,pred_knc))"
      ]
    },
    {
      "cell_type": "code",
      "execution_count": 58,
      "metadata": {
        "id": "zerr80EbnoN0",
        "colab": {
          "base_uri": "https://localhost:8080/",
          "height": 421
        },
        "outputId": "4e8e6909-83e6-4c1a-ec58-63bdb03496f1"
      },
      "outputs": [
        {
          "output_type": "execute_result",
          "data": {
            "text/plain": [
              "Text(0, 0.5, 'Error Rate')"
            ]
          },
          "metadata": {},
          "execution_count": 58
        },
        {
          "output_type": "display_data",
          "data": {
            "text/plain": [
              "<Figure size 720x432 with 1 Axes>"
            ],
            "image/png": "[encoded data removed]"
          },
          "metadata": {
            "needs_background": "light"
          }
        }
      ],
      "source": [
        "# Choosing the right K (n_neighbors) value\n",
        "error_rate = []\n",
        "\n",
        "for i in range(1,25):\n",
        "    knn = KNeighborsClassifier(n_neighbors=i)\n",
        "    knn.fit(X_train_scaled,y_train)\n",
        "    pred_i = knn.predict(X_test_scaled)\n",
        "    error_rate.append(np.mean(y_test != pred_i))\n",
        "    \n",
        "plt.figure(figsize=(10,6))\n",
        "plt.plot(range(1,25),error_rate,color='blue',markerfacecolor='orange',marker='o',markersize=10)\n",
        "plt.title('Error Rate vs K value')\n",
        "plt.xlabel('K Value')\n",
        "plt.ylabel('Error Rate')"
      ]
    },
    {
      "cell_type": "code",
      "execution_count": 59,
      "metadata": {
        "id": "otGfvLaanowF",
        "colab": {
          "base_uri": "https://localhost:8080/"
        },
        "outputId": "4fb6c28e-dc17-476d-b9e7-72c8b6b83eab"
      },
      "outputs": [
        {
          "output_type": "stream",
          "name": "stdout",
          "text": [
            "With K = 17, \n",
            "\n",
            "              precision    recall  f1-score   support\n",
            "\n",
            "           0       0.83      0.95      0.89      7058\n",
            "           1       0.64      0.31      0.42      1942\n",
            "\n",
            "    accuracy                           0.81      9000\n",
            "   macro avg       0.74      0.63      0.65      9000\n",
            "weighted avg       0.79      0.81      0.79      9000\n",
            "\n",
            "[[6717  341]\n",
            " [1343  599]]\n"
          ]
        }
      ],
      "source": [
        "knn = KNeighborsClassifier(n_neighbors=17)\n",
        "knn.fit(X_train_scaled,y_train)\n",
        "pred_knn = knn.predict(X_test_scaled)\n",
        "train_pred_knn = knn.predict(X_train_scaled)\n",
        "\n",
        "print('With K = 17, \\n')\n",
        "print(classification_report(y_test,pred_knn))\n",
        "print(confusion_matrix(y_test,pred_knn))"
      ]
    },
    {
      "cell_type": "markdown",
      "metadata": {
        "id": "4a16zOZ0nt3X"
      },
      "source": [
        "## Support Vector Machines"
      ]
    },
    {
      "cell_type": "code",
      "execution_count": 60,
      "metadata": {
        "id": "ZtsambEUnrI5"
      },
      "outputs": [],
      "source": [
        "from sklearn.svm import SVC"
      ]
    },
    {
      "cell_type": "code",
      "execution_count": 61,
      "metadata": {
        "id": "LSn1AAQtn0Hl",
        "colab": {
          "base_uri": "https://localhost:8080/"
        },
        "outputId": "f9b11d97-14d8-4828-f3e4-550a0f6101fe"
      },
      "outputs": [
        {
          "output_type": "stream",
          "name": "stdout",
          "text": [
            "              precision    recall  f1-score   support\n",
            "\n",
            "           0       0.84      0.96      0.90      7058\n",
            "           1       0.69      0.34      0.45      1942\n",
            "\n",
            "    accuracy                           0.82      9000\n",
            "   macro avg       0.77      0.65      0.67      9000\n",
            "weighted avg       0.81      0.82      0.80      9000\n",
            "\n",
            "[[6770  288]\n",
            " [1287  655]]\n"
          ]
        }
      ],
      "source": [
        "svc = SVC()\n",
        "svc.fit(X_train_scaled,y_train)\n",
        "pred_svc = svc.predict(X_test_scaled)\n",
        "train_pred_svc = svc.predict(X_train_scaled)\n",
        "\n",
        "print(classification_report(y_test,pred_svc))\n",
        "print(confusion_matrix(y_test,pred_svc))"
      ]
    },
    {
      "cell_type": "markdown",
      "metadata": {
        "id": "3P1FYYlc4HNT"
      },
      "source": [
        "## Neural Networks\n"
      ]
    },
    {
      "cell_type": "code",
      "execution_count": 62,
      "metadata": {
        "id": "Z5Lc_iV9n2kZ"
      },
      "outputs": [],
      "source": [
        "import tensorflow as tf\n",
        "from tensorflow.keras.models import Sequential\n",
        "from tensorflow.keras.layers import Dense,Dropout"
      ]
    },
    {
      "cell_type": "code",
      "execution_count": 63,
      "metadata": {
        "id": "MKuExnZH4X-m"
      },
      "outputs": [],
      "source": [
        "model = Sequential()\n",
        "\n",
        "model.add(Dense(29,activation='relu'))\n",
        "model.add(Dropout(0.2))\n",
        "model.add(Dense(19,activation='relu'))\n",
        "model.add(Dropout(0.2))\n",
        "model.add(Dense(9,activation='relu'))\n",
        "model.add(Dropout(0.2))\n",
        "model.add(Dense(1,activation='sigmoid'))\n",
        "\n",
        "model.compile(loss='binary_crossentropy',optimizer='adam')"
      ]
    },
    {
      "cell_type": "code",
      "execution_count": 64,
      "metadata": {
        "id": "bu4Ao4zQ57Z2",
        "colab": {
          "base_uri": "https://localhost:8080/"
        },
        "outputId": "07ef1a07-df22-4636-a986-0ef156a486cb"
      },
      "outputs": [
        {
          "output_type": "stream",
          "name": "stdout",
          "text": [
            "Epoch 1/100\n",
            "83/83 [==============================] - 2s 9ms/step - loss: 0.6254 - val_loss: 0.4923\n",
            "Epoch 2/100\n",
            "83/83 [==============================] - 0s 4ms/step - loss: 0.4984 - val_loss: 0.4477\n",
            "Epoch 3/100\n",
            "83/83 [==============================] - 0s 4ms/step - loss: 0.4811 - val_loss: 0.4418\n",
            "Epoch 4/100\n",
            "83/83 [==============================] - 0s 4ms/step - loss: 0.4732 - val_loss: 0.4384\n",
            "Epoch 5/100\n",
            "83/83 [==============================] - 0s 4ms/step - loss: 0.4663 - val_loss: 0.4368\n",
            "Epoch 6/100\n",
            "83/83 [==============================] - 0s 4ms/step - loss: 0.4620 - val_loss: 0.4351\n",
            "Epoch 7/100\n",
            "83/83 [==============================] - 0s 4ms/step - loss: 0.4609 - val_loss: 0.4344\n",
            "Epoch 8/100\n",
            "83/83 [==============================] - 0s 4ms/step - loss: 0.4602 - val_loss: 0.4337\n",
            "Epoch 9/100\n",
            "83/83 [==============================] - 0s 4ms/step - loss: 0.4579 - val_loss: 0.4342\n",
            "Epoch 10/100\n",
            "83/83 [==============================] - 0s 4ms/step - loss: 0.4557 - val_loss: 0.4327\n",
            "Epoch 11/100\n",
            "83/83 [==============================] - 0s 4ms/step - loss: 0.4529 - val_loss: 0.4328\n",
            "Epoch 12/100\n",
            "83/83 [==============================] - 0s 4ms/step - loss: 0.4539 - val_loss: 0.4336\n",
            "Epoch 13/100\n",
            "83/83 [==============================] - 0s 4ms/step - loss: 0.4528 - val_loss: 0.4326\n",
            "Epoch 14/100\n",
            "83/83 [==============================] - 0s 4ms/step - loss: 0.4524 - val_loss: 0.4320\n",
            "Epoch 15/100\n",
            "83/83 [==============================] - 0s 4ms/step - loss: 0.4510 - val_loss: 0.4324\n",
            "Epoch 16/100\n",
            "83/83 [==============================] - 0s 4ms/step - loss: 0.4508 - val_loss: 0.4310\n",
            "Epoch 17/100\n",
            "83/83 [==============================] - 0s 4ms/step - loss: 0.4508 - val_loss: 0.4307\n",
            "Epoch 18/100\n",
            "83/83 [==============================] - 0s 4ms/step - loss: 0.4502 - val_loss: 0.4314\n",
            "Epoch 19/100\n",
            "83/83 [==============================] - 0s 4ms/step - loss: 0.4482 - val_loss: 0.4317\n",
            "Epoch 20/100\n",
            "83/83 [==============================] - 0s 4ms/step - loss: 0.4493 - val_loss: 0.4305\n",
            "Epoch 21/100\n",
            "83/83 [==============================] - 0s 4ms/step - loss: 0.4465 - val_loss: 0.4308\n",
            "Epoch 22/100\n",
            "83/83 [==============================] - 0s 4ms/step - loss: 0.4493 - val_loss: 0.4314\n",
            "Epoch 23/100\n",
            "83/83 [==============================] - 0s 4ms/step - loss: 0.4463 - val_loss: 0.4311\n",
            "Epoch 24/100\n",
            "83/83 [==============================] - 0s 4ms/step - loss: 0.4467 - val_loss: 0.4310\n",
            "Epoch 25/100\n",
            "83/83 [==============================] - 0s 4ms/step - loss: 0.4446 - val_loss: 0.4302\n",
            "Epoch 26/100\n",
            "83/83 [==============================] - 0s 4ms/step - loss: 0.4450 - val_loss: 0.4311\n",
            "Epoch 27/100\n",
            "83/83 [==============================] - 0s 4ms/step - loss: 0.4453 - val_loss: 0.4300\n",
            "Epoch 28/100\n",
            "83/83 [==============================] - 0s 4ms/step - loss: 0.4429 - val_loss: 0.4295\n",
            "Epoch 29/100\n",
            "83/83 [==============================] - 0s 4ms/step - loss: 0.4440 - val_loss: 0.4293\n",
            "Epoch 30/100\n",
            "83/83 [==============================] - 0s 4ms/step - loss: 0.4450 - val_loss: 0.4300\n",
            "Epoch 31/100\n",
            "83/83 [==============================] - 0s 4ms/step - loss: 0.4433 - val_loss: 0.4308\n",
            "Epoch 32/100\n",
            "83/83 [==============================] - 0s 4ms/step - loss: 0.4438 - val_loss: 0.4294\n",
            "Epoch 33/100\n",
            "83/83 [==============================] - 0s 4ms/step - loss: 0.4427 - val_loss: 0.4296\n",
            "Epoch 34/100\n",
            "83/83 [==============================] - 0s 4ms/step - loss: 0.4434 - val_loss: 0.4290\n",
            "Epoch 35/100\n",
            "83/83 [==============================] - 0s 4ms/step - loss: 0.4407 - val_loss: 0.4283\n",
            "Epoch 36/100\n",
            "83/83 [==============================] - 0s 4ms/step - loss: 0.4411 - val_loss: 0.4282\n",
            "Epoch 37/100\n",
            "83/83 [==============================] - 0s 4ms/step - loss: 0.4402 - val_loss: 0.4287\n",
            "Epoch 38/100\n",
            "83/83 [==============================] - 0s 4ms/step - loss: 0.4399 - val_loss: 0.4290\n",
            "Epoch 39/100\n",
            "83/83 [==============================] - 0s 4ms/step - loss: 0.4390 - val_loss: 0.4293\n",
            "Epoch 40/100\n",
            "83/83 [==============================] - 0s 4ms/step - loss: 0.4425 - val_loss: 0.4291\n",
            "Epoch 41/100\n",
            "83/83 [==============================] - 0s 4ms/step - loss: 0.4387 - val_loss: 0.4292\n",
            "Epoch 42/100\n",
            "83/83 [==============================] - 0s 4ms/step - loss: 0.4398 - val_loss: 0.4283\n",
            "Epoch 43/100\n",
            "83/83 [==============================] - 0s 4ms/step - loss: 0.4389 - val_loss: 0.4284\n",
            "Epoch 44/100\n",
            "83/83 [==============================] - 0s 3ms/step - loss: 0.4402 - val_loss: 0.4283\n",
            "Epoch 45/100\n",
            "83/83 [==============================] - 0s 4ms/step - loss: 0.4407 - val_loss: 0.4290\n",
            "Epoch 46/100\n",
            "83/83 [==============================] - 0s 4ms/step - loss: 0.4383 - val_loss: 0.4286\n",
            "Epoch 47/100\n",
            "83/83 [==============================] - 0s 3ms/step - loss: 0.4390 - val_loss: 0.4289\n",
            "Epoch 48/100\n",
            "83/83 [==============================] - 0s 3ms/step - loss: 0.4387 - val_loss: 0.4290\n",
            "Epoch 49/100\n",
            "83/83 [==============================] - 0s 4ms/step - loss: 0.4388 - val_loss: 0.4293\n",
            "Epoch 50/100\n",
            "83/83 [==============================] - 0s 3ms/step - loss: 0.4397 - val_loss: 0.4287\n",
            "Epoch 51/100\n",
            "83/83 [==============================] - 0s 3ms/step - loss: 0.4396 - val_loss: 0.4292\n",
            "Epoch 52/100\n",
            "83/83 [==============================] - 0s 3ms/step - loss: 0.4397 - val_loss: 0.4284\n",
            "Epoch 53/100\n",
            "83/83 [==============================] - 0s 3ms/step - loss: 0.4382 - val_loss: 0.4291\n",
            "Epoch 54/100\n",
            "83/83 [==============================] - 0s 4ms/step - loss: 0.4377 - val_loss: 0.4280\n",
            "Epoch 55/100\n",
            "83/83 [==============================] - 0s 3ms/step - loss: 0.4382 - val_loss: 0.4281\n",
            "Epoch 56/100\n",
            "83/83 [==============================] - 0s 4ms/step - loss: 0.4383 - val_loss: 0.4283\n",
            "Epoch 57/100\n",
            "83/83 [==============================] - 0s 4ms/step - loss: 0.4385 - val_loss: 0.4279\n",
            "Epoch 58/100\n",
            "83/83 [==============================] - 0s 4ms/step - loss: 0.4389 - val_loss: 0.4275\n",
            "Epoch 59/100\n",
            "83/83 [==============================] - 0s 4ms/step - loss: 0.4375 - val_loss: 0.4291\n",
            "Epoch 60/100\n",
            "83/83 [==============================] - 0s 4ms/step - loss: 0.4375 - val_loss: 0.4278\n",
            "Epoch 61/100\n",
            "83/83 [==============================] - 0s 4ms/step - loss: 0.4380 - val_loss: 0.4285\n",
            "Epoch 62/100\n",
            "83/83 [==============================] - 0s 4ms/step - loss: 0.4383 - val_loss: 0.4280\n",
            "Epoch 63/100\n",
            "83/83 [==============================] - 0s 3ms/step - loss: 0.4379 - val_loss: 0.4283\n",
            "Epoch 64/100\n",
            "83/83 [==============================] - 0s 3ms/step - loss: 0.4382 - val_loss: 0.4275\n",
            "Epoch 65/100\n",
            "83/83 [==============================] - 0s 3ms/step - loss: 0.4373 - val_loss: 0.4276\n",
            "Epoch 66/100\n",
            "83/83 [==============================] - 0s 4ms/step - loss: 0.4346 - val_loss: 0.4272\n",
            "Epoch 67/100\n",
            "83/83 [==============================] - 0s 4ms/step - loss: 0.4361 - val_loss: 0.4273\n",
            "Epoch 68/100\n",
            "83/83 [==============================] - 0s 4ms/step - loss: 0.4359 - val_loss: 0.4283\n",
            "Epoch 69/100\n",
            "83/83 [==============================] - 0s 3ms/step - loss: 0.4359 - val_loss: 0.4272\n",
            "Epoch 70/100\n",
            "83/83 [==============================] - 0s 3ms/step - loss: 0.4384 - val_loss: 0.4287\n",
            "Epoch 71/100\n",
            "83/83 [==============================] - 0s 3ms/step - loss: 0.4366 - val_loss: 0.4272\n",
            "Epoch 72/100\n",
            "83/83 [==============================] - 0s 4ms/step - loss: 0.4377 - val_loss: 0.4273\n",
            "Epoch 73/100\n",
            "83/83 [==============================] - 0s 4ms/step - loss: 0.4347 - val_loss: 0.4276\n",
            "Epoch 74/100\n",
            "83/83 [==============================] - 0s 3ms/step - loss: 0.4376 - val_loss: 0.4281\n",
            "Epoch 75/100\n",
            "83/83 [==============================] - 0s 4ms/step - loss: 0.4342 - val_loss: 0.4280\n",
            "Epoch 76/100\n",
            "83/83 [==============================] - 0s 3ms/step - loss: 0.4334 - val_loss: 0.4275\n",
            "Epoch 77/100\n",
            "83/83 [==============================] - 0s 4ms/step - loss: 0.4350 - val_loss: 0.4275\n",
            "Epoch 78/100\n",
            "83/83 [==============================] - 0s 3ms/step - loss: 0.4347 - val_loss: 0.4284\n",
            "Epoch 79/100\n",
            "83/83 [==============================] - 0s 4ms/step - loss: 0.4346 - val_loss: 0.4280\n",
            "Epoch 80/100\n",
            "83/83 [==============================] - 0s 4ms/step - loss: 0.4354 - val_loss: 0.4289\n",
            "Epoch 81/100\n",
            "83/83 [==============================] - 0s 3ms/step - loss: 0.4356 - val_loss: 0.4283\n",
            "Epoch 82/100\n",
            "83/83 [==============================] - 0s 4ms/step - loss: 0.4343 - val_loss: 0.4287\n",
            "Epoch 83/100\n",
            "83/83 [==============================] - 0s 3ms/step - loss: 0.4337 - val_loss: 0.4277\n",
            "Epoch 84/100\n",
            "83/83 [==============================] - 0s 4ms/step - loss: 0.4344 - val_loss: 0.4277\n",
            "Epoch 85/100\n",
            "83/83 [==============================] - 0s 3ms/step - loss: 0.4349 - val_loss: 0.4280\n",
            "Epoch 86/100\n",
            "83/83 [==============================] - 0s 4ms/step - loss: 0.4339 - val_loss: 0.4285\n",
            "Epoch 87/100\n",
            "83/83 [==============================] - 0s 4ms/step - loss: 0.4334 - val_loss: 0.4294\n",
            "Epoch 88/100\n",
            "83/83 [==============================] - 0s 4ms/step - loss: 0.4335 - val_loss: 0.4290\n",
            "Epoch 89/100\n",
            "83/83 [==============================] - 0s 4ms/step - loss: 0.4346 - val_loss: 0.4290\n",
            "Epoch 90/100\n",
            "83/83 [==============================] - 0s 4ms/step - loss: 0.4350 - val_loss: 0.4292\n",
            "Epoch 91/100\n",
            "83/83 [==============================] - 0s 4ms/step - loss: 0.4352 - val_loss: 0.4280\n",
            "Epoch 92/100\n",
            "83/83 [==============================] - 0s 4ms/step - loss: 0.4356 - val_loss: 0.4287\n",
            "Epoch 93/100\n",
            "83/83 [==============================] - 0s 4ms/step - loss: 0.4329 - val_loss: 0.4279\n",
            "Epoch 94/100\n",
            "83/83 [==============================] - 0s 3ms/step - loss: 0.4318 - val_loss: 0.4284\n",
            "Epoch 95/100\n",
            "83/83 [==============================] - 0s 4ms/step - loss: 0.4336 - val_loss: 0.4277\n",
            "Epoch 96/100\n",
            "83/83 [==============================] - 0s 4ms/step - loss: 0.4344 - val_loss: 0.4275\n",
            "Epoch 97/100\n",
            "83/83 [==============================] - 0s 3ms/step - loss: 0.4341 - val_loss: 0.4286\n",
            "Epoch 98/100\n",
            "83/83 [==============================] - 1s 6ms/step - loss: 0.4325 - val_loss: 0.4280\n",
            "Epoch 99/100\n",
            "83/83 [==============================] - 1s 10ms/step - loss: 0.4321 - val_loss: 0.4274\n",
            "Epoch 100/100\n",
            "83/83 [==============================] - 0s 3ms/step - loss: 0.4329 - val_loss: 0.4279\n"
          ]
        },
        {
          "output_type": "execute_result",
          "data": {
            "text/plain": [
              "<keras.callbacks.History at 0x7f0f206a0e90>"
            ]
          },
          "metadata": {},
          "execution_count": 64
        }
      ],
      "source": [
        "model.fit(X_train_scaled,\n",
        "          y_train,\n",
        "          batch_size=256,\n",
        "          epochs=100,\n",
        "          validation_data=(X_test_scaled,y_test))"
      ]
    },
    {
      "cell_type": "code",
      "execution_count": 65,
      "metadata": {
        "id": "wPDV0MpH6Ipl",
        "colab": {
          "base_uri": "https://localhost:8080/",
          "height": 282
        },
        "outputId": "325de95e-fa2c-49f8-80f2-7d6ea766c3f6"
      },
      "outputs": [
        {
          "output_type": "execute_result",
          "data": {
            "text/plain": [
              "(0.0, 100.0)"
            ]
          },
          "metadata": {},
          "execution_count": 65
        },
        {
          "output_type": "display_data",
          "data": {
            "text/plain": [
              "<Figure size 432x288 with 1 Axes>"
            ],
            "image/png": "[encoded data removed]"
          },
          "metadata": {
            "needs_background": "light"
          }
        }
      ],
      "source": [
        "losses = pd.DataFrame(model.history.history)\n",
        "losses[['loss','val_loss']].plot()\n",
        "plt.xlim(0,100)"
      ]
    },
    {
      "cell_type": "code",
      "execution_count": 66,
      "metadata": {
        "id": "JZWbe1f07M8v",
        "colab": {
          "base_uri": "https://localhost:8080/"
        },
        "outputId": "b88cb7b9-bdbe-45fd-9d54-26f792cd276b"
      },
      "outputs": [
        {
          "output_type": "stream",
          "name": "stdout",
          "text": [
            "              precision    recall  f1-score   support\n",
            "\n",
            "           0       0.84      0.95      0.89      7058\n",
            "           1       0.67      0.36      0.47      1942\n",
            "\n",
            "    accuracy                           0.82      9000\n",
            "   macro avg       0.75      0.66      0.68      9000\n",
            "weighted avg       0.81      0.82      0.80      9000\n",
            "\n",
            "[[6702  356]\n",
            " [1234  708]]\n"
          ]
        }
      ],
      "source": [
        "pred_nn = np.round(model.predict(X_test_scaled))\n",
        "train_pred_nn = np.round(model.predict(X_train_scaled))\n",
        "\n",
        "print(classification_report(y_test,pred_nn))\n",
        "print(confusion_matrix(y_test,pred_nn))"
      ]
    },
    {
      "cell_type": "markdown",
      "metadata": {
        "id": "WLcD4PhRv-56"
      },
      "source": [
        "# Results"
      ]
    },
    {
      "cell_type": "code",
      "execution_count": 68,
      "metadata": {
        "id": "Ar2uX4xn7fQA"
      },
      "outputs": [],
      "source": [
        "lr1 = accuracy_score(y_test,pred_log)*100\n",
        "dtr1 = accuracy_score(y_test,pred_dtree)*100\n",
        "rfc1 = accuracy_score(y_test,pred_rfc)*100\n",
        "knc1 = accuracy_score(y_test,pred_knc)*100\n",
        "knn1 = accuracy_score(y_test,pred_knn)*100\n",
        "svc1 = accuracy_score(y_test,pred_svc)*100\n",
        "nn1 = accuracy_score(y_test,pred_nn)*100\n",
        "\n",
        "lr2 = accuracy_score(y_train,train_pred_log)*100\n",
        "dtr2 = accuracy_score(y_train,train_pred_dtree)*100\n",
        "rfc2 = accuracy_score(y_train,train_pred_rfc)*100\n",
        "knc2 = accuracy_score(y_train,train_pred_knc)*100\n",
        "knn2 = accuracy_score(y_train,train_pred_knn)*100\n",
        "svc2 = accuracy_score(y_train,train_pred_svc)*100\n",
        "nn2 = accuracy_score(y_train,train_pred_nn)*100\n",
        "\n",
        "test_score_dict = {'Logistic Regression':lr1,'Decision Tree Classifier':dtr1,'Random Forest Classifier':rfc1,\n",
        "              'KNC (n=1)':knc1,'KNC (n=17)':knn1,'Support Vector Machines':svc1,'Neural Networks':nn1}\n",
        "              \n",
        "train_score_dict = {'Logistic Regression':lr2,'Decision Tree Classifier':dtr2,'Random Forest Classifier':rfc2,\n",
        "              'KNC (n=1)':knc2,'KNC (n=17)':knn2,'Support Vector Machines':svc2,'Neural Networks':nn2}"
      ]
    },
    {
      "cell_type": "code",
      "execution_count": 69,
      "metadata": {
        "colab": {
          "base_uri": "https://localhost:8080/",
          "height": 397
        },
        "id": "sT_KdOFzv-57",
        "outputId": "83b7d3a8-a5b3-426b-91de-613df6fb5fe9"
      },
      "outputs": [
        {
          "output_type": "execute_result",
          "data": {
            "text/plain": [
              "<matplotlib.axes._subplots.AxesSubplot at 0x7f0f204ae850>"
            ]
          },
          "metadata": {},
          "execution_count": 69
        },
        {
          "output_type": "display_data",
          "data": {
            "text/plain": [
              "<Figure size 432x288 with 1 Axes>"
            ],
            "image/png": "[encoded data removed]"
          },
          "metadata": {
            "needs_background": "light"
          }
        }
      ],
      "source": [
        "df_scores = pd.DataFrame([train_score_dict,test_score_dict],index=['Train Accuracy','Test Accuracy']).transpose()\n",
        "\n",
        "df_scores.plot(kind='bar')"
      ]
    }
  ],
  "metadata": {
    "celltoolbar": "Raw Cell Format",
    "colab": {
      "name": "Credit_card_default.ipynb",
      "provenance": [],
      "toc_visible": true
    },
    "kernelspec": {
      "display_name": "Python 3",
      "language": "python",
      "name": "python3"
    },
    "language_info": {
      "codemirror_mode": {
        "name": "ipython",
        "version": 3
      },
      "file_extension": ".py",
      "mimetype": "text/x-python",
      "name": "python",
      "nbconvert_exporter": "python",
      "pygments_lexer": "ipython3",
      "version": "3.8.8"
    },
    "vscode": {
      "interpreter": {
        "hash": "1b4ada098d133e6ba3690b75a455668b4b88820b75d97973ca15abfc2b612c9a"
      }
    }
  },
  "nbformat": 4,
  "nbformat_minor": 0
}